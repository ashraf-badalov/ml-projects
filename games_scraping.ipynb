{
  "nbformat": 4,
  "nbformat_minor": 0,
  "metadata": {
    "colab": {
      "provenance": [],
      "authorship_tag": "ABX9TyNecgXGUHvXbwUdeaiUsAf/",
      "include_colab_link": true
    },
    "kernelspec": {
      "name": "python3",
      "display_name": "Python 3"
    },
    "language_info": {
      "name": "python"
    }
  },
  "cells": [
    {
      "cell_type": "markdown",
      "metadata": {
        "id": "view-in-github",
        "colab_type": "text"
      },
      "source": [
        "<a href=\"https://colab.research.google.com/github/ashraf-badalov/ml-projects/blob/master/games_scraping.ipynb\" target=\"_parent\"><img src=\"https://colab.research.google.com/assets/colab-badge.svg\" alt=\"Open In Colab\"/></a>"
      ]
    },
    {
      "cell_type": "code",
      "execution_count": 51,
      "metadata": {
        "id": "Z1VJnFYdAA-H"
      },
      "outputs": [],
      "source": [
        "from bs4 import BeautifulSoup\n",
        "import requests\n",
        "\n",
        "url = \"https://gg.deals/deals/new-deals/\"\n",
        "request = requests.get(url)\n",
        "if request.status_code == 200:\n",
        "  html_text = request.content\n",
        "else:\n",
        "  print(\"Request status code: \",request.status_code)"
      ]
    },
    {
      "cell_type": "code",
      "source": [
        "soup = BeautifulSoup(html_text, 'html.parser')\n",
        "print(soup.prettify()[:1000])"
      ],
      "metadata": {
        "colab": {
          "base_uri": "https://localhost:8080/"
        },
        "id": "nWl9YhAwFFB5",
        "outputId": "730ed720-62ac-4121-fb89-fcb8fdc6e974"
      },
      "execution_count": 58,
      "outputs": [
        {
          "output_type": "stream",
          "name": "stdout",
          "text": [
            "<!DOCTYPE html>\n",
            "<html class=\"no-js\" lang=\"en-US\">\n",
            " <head>\n",
            "  <meta content=\"text/html; charset=utf-8\" http-equiv=\"Content-Type\"/>\n",
            "  <meta content=\"width=device-width, initial-scale=1.0\" name=\"viewport\"/>\n",
            "  <script>\n",
            "   (function(){var width=Math.max(document.documentElement.clientWidth||0,window.innerWidth||0);if(width<360){document.querySelector(\"meta[name=viewport]\").setAttribute('content','width=360, initial-scale='+(width / 360));}})();\n",
            "  </script>\n",
            "  <meta content=\"gg_csrf\" name=\"csrf-param\"/>\n",
            "  <meta content=\"OXMyRldtWXQxeGpXX016UnU4a19JamRZemd2RTNsWGkHjZf3w9f3EGBs_B0UyrAayZY-DnmbJwivs3ZyFCyBJQ==\" name=\"csrf-token\"/>\n",
            "  <meta content=\"GG.deals\" name=\"apple-mobile-web-app-title\"/>\n",
            "  <meta content=\"GG.deals\" name=\"application-name\"/>\n",
            "  <meta content=\"#141216\" name=\"theme-color\"/>\n",
            "  <meta content=\"Game price tracker - discover new game deals for PC\" property=\"og:title\"/>\n",
            "  <meta content=\"Game price tracker - discover new game deals for PC\" name=\"twitter:title\"/>\n",
            "  <meta content=\"Looking\n"
          ]
        }
      ]
    },
    {
      "cell_type": "code",
      "source": [
        "name = soup.find_all('a', class_=\"game-info-title title\")\n",
        "names = [element.text for element in name]\n",
        "print(names)\n",
        "print(len(names))"
      ],
      "metadata": {
        "colab": {
          "base_uri": "https://localhost:8080/"
        },
        "id": "vwi5NhR4Hdjm",
        "outputId": "dd683fc3-20d6-4393-ea9a-cd7c0b6f979d"
      },
      "execution_count": 114,
      "outputs": [
        {
          "output_type": "stream",
          "name": "stdout",
          "text": [
            "['Post Scriptum', 'Injustice 2', 'Klonoa Phantasy Reverie Series', 'Wreckfest', 'Titan Quest: Eternal Embers', 'The Dark Pictures Anthology: House of Ashes', 'Tekken 7', 'SpellForce 3: Fallen God', 'SOULCALIBUR VI', 'SCARLET NEXUS', 'Ni no Kuni II: Revenant Kingdom', 'Little Nightmares II', 'GOD EATER 3', 'Fade to Silence', 'Dragon Ball Xenoverse 2', 'Darksiders Genesis', 'CODE VEIN', 'ACE COMBAT 7: SKIES UNKNOWN', 'The Dark Pictures Anthology The Devil In Me', 'Tales of Arise', 'Ni no Kuni Wrath of the White Witch Remastered', 'Tales of Vesperia Definitive Edition', 'Tales of Symphonia', 'Tales of Berseria', 'Moonlighter', 'Frostpunk', 'Besiege', 'Sword and Fairy 7', 'Idol Manager', 'Bright Memory: Infinite', 'Bright Memory', 'La-Mulana 2', 'Mad Father', 'The Silver Case', 'Settlement Survival', 'Mighty Goose', 'Record of Lodoss War-Deedlit in Wonder Labyrinth-', 'Momodora: Reverie Under The Moonlight', 'Orangeblood', 'DEEEER Simulator: Your Average Everyday Deer Game', 'TASOMACHI: Behind the Twilight', 'The Elder Scrolls Online - Morrowind Standard Edition', 'Wolfenstein: Youngblood', 'Wolfenstein: The Old Blood', 'The Elder Scrolls V: Skyrim Special Edition', 'Prey', 'Fallout 4', 'Fallout 3: Game of the Year Edition']\n",
            "48\n"
          ]
        }
      ]
    },
    {
      "cell_type": "code",
      "source": [
        "old_price = soup.find_all('span', class_ = \"price-label price-old\")\n",
        "old_prices = [p.text for p in old_price]\n",
        "old_prices = old_prices[:-3]\n",
        "print(old_prices)\n",
        "print(len(old_prices))"
      ],
      "metadata": {
        "colab": {
          "base_uri": "https://localhost:8080/"
        },
        "id": "CudnRdy2NSbk",
        "outputId": "163b3be6-7acf-482b-a6e2-a5f591c8b87b"
      },
      "execution_count": 115,
      "outputs": [
        {
          "output_type": "stream",
          "name": "stdout",
          "text": [
            "['$29.99', '$49.99', '$39.99', '$29.99', '$19.99', '$29.99', '$39.99', '$19.99', '$59.99', '$59.99', '$59.99', '$29.99', '$59.99', '$29.99', '$49.99', '$29.99', '$59.99', '$59.99', '$39.99', '$59.99', '$49.99', '$49.99', '$19.99', '$49.99', '$19.99', '$29.99', '$14.99', '$29.99', '$19.99', '$19.99', '$7.99', '$24.99', '$9.99', '$19.99', '$19.99', '$19.99', '$19.99', '$9.99', '$19.99', '$14.99', '$19.99', '$19.99', '$19.99', '$19.99', '$39.99', '$29.99', '$19.99', '$19.99']\n",
            "48\n"
          ]
        }
      ]
    },
    {
      "cell_type": "code",
      "source": [
        "price_with_discount = soup.find_all('span', class_=\"price-inner game-price-new\")\n",
        "p_discounts = [d.text for d in price_with_discount]\n",
        "p_discounts = p_discounts[:-3]\n",
        "print(p_discounts)\n",
        "print(len(p_discounts))\n"
      ],
      "metadata": {
        "colab": {
          "base_uri": "https://localhost:8080/"
        },
        "id": "tI6C1nRjNn0N",
        "outputId": "3600e44f-7037-43f5-91fb-699fe377832f"
      },
      "execution_count": 120,
      "outputs": [
        {
          "output_type": "stream",
          "name": "stdout",
          "text": [
            "['$6.34', '$3.78', '$16.76', '$9.69', '$8.07', '$12.56', '$5.02', '$4.02', '$5.02', '$12.59', '$8.04', '$8.28', '$7.01', '$6.05', '$6.54', '$6.05', '$7.55', '$7.55', '$25.49', '$16.63', '$6.30', '$8.40', '$4.20', '$4.20', '$2.19', '$4.38', '$5.99', '$20.99', '$11.99', '$14.99', '$3.99', '$12.49', '$4.99', '$5.99', '$13.99', '$7.99', '$14.99', '$3.99', '$5.99', '$7.49', '$7.99', '$4.97', '$4.17', '$4.17', '$8.29', '$6.21', '$5.47', '$4.98']\n",
            "48\n"
          ]
        }
      ]
    },
    {
      "cell_type": "code",
      "source": [
        "time = soup.find_all('div',class_='time-tag tag')\n",
        "times = [t.text for t in time]\n",
        "print(times)\n",
        "print(len(times))"
      ],
      "metadata": {
        "colab": {
          "base_uri": "https://localhost:8080/"
        },
        "id": "IX8-kZSDN-1y",
        "outputId": "9a8e61f3-ce05-43ae-f11e-a4c2160f0b98"
      },
      "execution_count": 104,
      "outputs": [
        {
          "output_type": "stream",
          "name": "stdout",
          "text": [
            "[' 3h ago  ', ' 3h ago  ', ' 3h ago  ', ' 3h ago  ', ' 3h ago  ', ' 3h ago  ', ' 3h ago  ', ' 3h ago  ', ' 3h ago  ', ' 3h ago  ', ' 3h ago  ', ' 3h ago  ', ' 3h ago  ', ' 3h ago  ', ' 3h ago  ', ' 3h ago  ', ' 3h ago  ', ' 3h ago  ', ' 13h ago  ', ' 13h ago  ', ' 13h ago  ', ' 13h ago  ', ' 13h ago  ', ' 13h ago  ', ' 13h ago  ', ' 13h ago  ', ' 18h ago  ', ' 18h ago  ', ' 1d ago  ', ' 1d ago  ', ' 1d ago  ', ' 1d ago  ', ' 1d ago  ', ' 1d ago  ', ' 1d ago  ', ' 1d ago  ', ' 1d ago  ', ' 1d ago  ', ' 1d ago  ', ' 1d ago  ', ' 1d ago  ', ' 1d ago  ', ' 1d ago  ', ' 1d ago  ', ' 1d ago  ', ' 1d ago  ', ' 1d ago  ', ' 1d ago  ']\n",
            "48\n"
          ]
        }
      ]
    },
    {
      "cell_type": "code",
      "source": [
        "discount_with_percentage = soup.find_all('span', class_ = \"discount label\")\n",
        "dis_per = [dp.text for dp in discount_with_percentage]\n",
        "dis_per = dis_per[:-3]\n",
        "print(dis_per)\n",
        "print(len(dis_per))"
      ],
      "metadata": {
        "colab": {
          "base_uri": "https://localhost:8080/"
        },
        "id": "YLwpkP7MQeSl",
        "outputId": "22a2fb81-504d-461e-a605-43898bbc75bc"
      },
      "execution_count": 121,
      "outputs": [
        {
          "output_type": "stream",
          "name": "stdout",
          "text": [
            "['-77%', '-92%', '-58%', '-67%', '-59%', '-58%', '-87%', '-79%', '-91%', '-79%', '-86%', '-72%', '-88%', '-79%', '-86%', '-79%', '-87%', '-87%', '-36%', '-72%', '-87%', '-83%', '-78%', '-91%', '-89%', '-85%', '-60%', '-30%', '-40%', '-25%', '-50%', '-50%', '-50%', '-70%', '-30%', '-60%', '-25%', '-60%', '-70%', '-50%', '-60%', '-75%', '-79%', '-79%', '-79%', '-79%', '-72%', '-75%']\n",
            "48\n"
          ]
        }
      ]
    },
    {
      "cell_type": "code",
      "source": [
        "import csv\n",
        "\n",
        "filename = \"games.csv\"\n",
        "\n",
        "rows = zip(names,old_prices,p_discounts, times, dis_per)\n",
        "\n",
        "with open(filename, 'w', newline=\"\") as csvfile:\n",
        "  writer = csv.writer(csvfile)\n",
        "  writer.writerow(['name_of_games','old_prices','prices_with_discount','time_ago','discount with percentage'])\n",
        "  for row in rows:\n",
        "        writer.writerow(row)\n",
        "\n",
        "  print(\"CSV file created successfully\")"
      ],
      "metadata": {
        "colab": {
          "base_uri": "https://localhost:8080/"
        },
        "id": "-AgF3q5lY0_q",
        "outputId": "2d63b80f-f70c-4663-a170-0b920b679d33"
      },
      "execution_count": 132,
      "outputs": [
        {
          "output_type": "stream",
          "name": "stdout",
          "text": [
            "CSV file created successfully\n"
          ]
        }
      ]
    },
    {
      "cell_type": "code",
      "source": [
        "import pandas as pd\n",
        "\n",
        "data = pd.read_csv(\"games.csv\")\n",
        "data.head(10)"
      ],
      "metadata": {
        "colab": {
          "base_uri": "https://localhost:8080/",
          "height": 363
        },
        "id": "yD_-AwamasD9",
        "outputId": "7f64c71e-e48c-4a33-9249-c885c5015fde"
      },
      "execution_count": 134,
      "outputs": [
        {
          "output_type": "execute_result",
          "data": {
            "text/plain": [
              "                                 name_of_games old_prices  \\\n",
              "0                                Post Scriptum     $29.99   \n",
              "1                                  Injustice 2     $49.99   \n",
              "2               Klonoa Phantasy Reverie Series     $39.99   \n",
              "3                                    Wreckfest     $29.99   \n",
              "4                  Titan Quest: Eternal Embers     $19.99   \n",
              "5  The Dark Pictures Anthology: House of Ashes     $29.99   \n",
              "6                                     Tekken 7     $39.99   \n",
              "7                     SpellForce 3: Fallen God     $19.99   \n",
              "8                               SOULCALIBUR VI     $59.99   \n",
              "9                                SCARLET NEXUS     $59.99   \n",
              "\n",
              "  prices_with_discount   time_ago discount with percentage  \n",
              "0                $6.34   3h ago                       -77%  \n",
              "1                $3.78   3h ago                       -92%  \n",
              "2               $16.76   3h ago                       -58%  \n",
              "3                $9.69   3h ago                       -67%  \n",
              "4                $8.07   3h ago                       -59%  \n",
              "5               $12.56   3h ago                       -58%  \n",
              "6                $5.02   3h ago                       -87%  \n",
              "7                $4.02   3h ago                       -79%  \n",
              "8                $5.02   3h ago                       -91%  \n",
              "9               $12.59   3h ago                       -79%  "
            ],
            "text/html": [
              "\n",
              "  <div id=\"df-8c88413d-cfa8-4148-9c2c-d77938e5c961\">\n",
              "    <div class=\"colab-df-container\">\n",
              "      <div>\n",
              "<style scoped>\n",
              "    .dataframe tbody tr th:only-of-type {\n",
              "        vertical-align: middle;\n",
              "    }\n",
              "\n",
              "    .dataframe tbody tr th {\n",
              "        vertical-align: top;\n",
              "    }\n",
              "\n",
              "    .dataframe thead th {\n",
              "        text-align: right;\n",
              "    }\n",
              "</style>\n",
              "<table border=\"1\" class=\"dataframe\">\n",
              "  <thead>\n",
              "    <tr style=\"text-align: right;\">\n",
              "      <th></th>\n",
              "      <th>name_of_games</th>\n",
              "      <th>old_prices</th>\n",
              "      <th>prices_with_discount</th>\n",
              "      <th>time_ago</th>\n",
              "      <th>discount with percentage</th>\n",
              "    </tr>\n",
              "  </thead>\n",
              "  <tbody>\n",
              "    <tr>\n",
              "      <th>0</th>\n",
              "      <td>Post Scriptum</td>\n",
              "      <td>$29.99</td>\n",
              "      <td>$6.34</td>\n",
              "      <td>3h ago</td>\n",
              "      <td>-77%</td>\n",
              "    </tr>\n",
              "    <tr>\n",
              "      <th>1</th>\n",
              "      <td>Injustice 2</td>\n",
              "      <td>$49.99</td>\n",
              "      <td>$3.78</td>\n",
              "      <td>3h ago</td>\n",
              "      <td>-92%</td>\n",
              "    </tr>\n",
              "    <tr>\n",
              "      <th>2</th>\n",
              "      <td>Klonoa Phantasy Reverie Series</td>\n",
              "      <td>$39.99</td>\n",
              "      <td>$16.76</td>\n",
              "      <td>3h ago</td>\n",
              "      <td>-58%</td>\n",
              "    </tr>\n",
              "    <tr>\n",
              "      <th>3</th>\n",
              "      <td>Wreckfest</td>\n",
              "      <td>$29.99</td>\n",
              "      <td>$9.69</td>\n",
              "      <td>3h ago</td>\n",
              "      <td>-67%</td>\n",
              "    </tr>\n",
              "    <tr>\n",
              "      <th>4</th>\n",
              "      <td>Titan Quest: Eternal Embers</td>\n",
              "      <td>$19.99</td>\n",
              "      <td>$8.07</td>\n",
              "      <td>3h ago</td>\n",
              "      <td>-59%</td>\n",
              "    </tr>\n",
              "    <tr>\n",
              "      <th>5</th>\n",
              "      <td>The Dark Pictures Anthology: House of Ashes</td>\n",
              "      <td>$29.99</td>\n",
              "      <td>$12.56</td>\n",
              "      <td>3h ago</td>\n",
              "      <td>-58%</td>\n",
              "    </tr>\n",
              "    <tr>\n",
              "      <th>6</th>\n",
              "      <td>Tekken 7</td>\n",
              "      <td>$39.99</td>\n",
              "      <td>$5.02</td>\n",
              "      <td>3h ago</td>\n",
              "      <td>-87%</td>\n",
              "    </tr>\n",
              "    <tr>\n",
              "      <th>7</th>\n",
              "      <td>SpellForce 3: Fallen God</td>\n",
              "      <td>$19.99</td>\n",
              "      <td>$4.02</td>\n",
              "      <td>3h ago</td>\n",
              "      <td>-79%</td>\n",
              "    </tr>\n",
              "    <tr>\n",
              "      <th>8</th>\n",
              "      <td>SOULCALIBUR VI</td>\n",
              "      <td>$59.99</td>\n",
              "      <td>$5.02</td>\n",
              "      <td>3h ago</td>\n",
              "      <td>-91%</td>\n",
              "    </tr>\n",
              "    <tr>\n",
              "      <th>9</th>\n",
              "      <td>SCARLET NEXUS</td>\n",
              "      <td>$59.99</td>\n",
              "      <td>$12.59</td>\n",
              "      <td>3h ago</td>\n",
              "      <td>-79%</td>\n",
              "    </tr>\n",
              "  </tbody>\n",
              "</table>\n",
              "</div>\n",
              "      <button class=\"colab-df-convert\" onclick=\"convertToInteractive('df-8c88413d-cfa8-4148-9c2c-d77938e5c961')\"\n",
              "              title=\"Convert this dataframe to an interactive table.\"\n",
              "              style=\"display:none;\">\n",
              "        \n",
              "  <svg xmlns=\"http://www.w3.org/2000/svg\" height=\"24px\"viewBox=\"0 0 24 24\"\n",
              "       width=\"24px\">\n",
              "    <path d=\"M0 0h24v24H0V0z\" fill=\"none\"/>\n",
              "    <path d=\"M18.56 5.44l.94 2.06.94-2.06 2.06-.94-2.06-.94-.94-2.06-.94 2.06-2.06.94zm-11 1L8.5 8.5l.94-2.06 2.06-.94-2.06-.94L8.5 2.5l-.94 2.06-2.06.94zm10 10l.94 2.06.94-2.06 2.06-.94-2.06-.94-.94-2.06-.94 2.06-2.06.94z\"/><path d=\"M17.41 7.96l-1.37-1.37c-.4-.4-.92-.59-1.43-.59-.52 0-1.04.2-1.43.59L10.3 9.45l-7.72 7.72c-.78.78-.78 2.05 0 2.83L4 21.41c.39.39.9.59 1.41.59.51 0 1.02-.2 1.41-.59l7.78-7.78 2.81-2.81c.8-.78.8-2.07 0-2.86zM5.41 20L4 18.59l7.72-7.72 1.47 1.35L5.41 20z\"/>\n",
              "  </svg>\n",
              "      </button>\n",
              "      \n",
              "  <style>\n",
              "    .colab-df-container {\n",
              "      display:flex;\n",
              "      flex-wrap:wrap;\n",
              "      gap: 12px;\n",
              "    }\n",
              "\n",
              "    .colab-df-convert {\n",
              "      background-color: #E8F0FE;\n",
              "      border: none;\n",
              "      border-radius: 50%;\n",
              "      cursor: pointer;\n",
              "      display: none;\n",
              "      fill: #1967D2;\n",
              "      height: 32px;\n",
              "      padding: 0 0 0 0;\n",
              "      width: 32px;\n",
              "    }\n",
              "\n",
              "    .colab-df-convert:hover {\n",
              "      background-color: #E2EBFA;\n",
              "      box-shadow: 0px 1px 2px rgba(60, 64, 67, 0.3), 0px 1px 3px 1px rgba(60, 64, 67, 0.15);\n",
              "      fill: #174EA6;\n",
              "    }\n",
              "\n",
              "    [theme=dark] .colab-df-convert {\n",
              "      background-color: #3B4455;\n",
              "      fill: #D2E3FC;\n",
              "    }\n",
              "\n",
              "    [theme=dark] .colab-df-convert:hover {\n",
              "      background-color: #434B5C;\n",
              "      box-shadow: 0px 1px 3px 1px rgba(0, 0, 0, 0.15);\n",
              "      filter: drop-shadow(0px 1px 2px rgba(0, 0, 0, 0.3));\n",
              "      fill: #FFFFFF;\n",
              "    }\n",
              "  </style>\n",
              "\n",
              "      <script>\n",
              "        const buttonEl =\n",
              "          document.querySelector('#df-8c88413d-cfa8-4148-9c2c-d77938e5c961 button.colab-df-convert');\n",
              "        buttonEl.style.display =\n",
              "          google.colab.kernel.accessAllowed ? 'block' : 'none';\n",
              "\n",
              "        async function convertToInteractive(key) {\n",
              "          const element = document.querySelector('#df-8c88413d-cfa8-4148-9c2c-d77938e5c961');\n",
              "          const dataTable =\n",
              "            await google.colab.kernel.invokeFunction('convertToInteractive',\n",
              "                                                     [key], {});\n",
              "          if (!dataTable) return;\n",
              "\n",
              "          const docLinkHtml = 'Like what you see? Visit the ' +\n",
              "            '<a target=\"_blank\" href=https://colab.research.google.com/notebooks/data_table.ipynb>data table notebook</a>'\n",
              "            + ' to learn more about interactive tables.';\n",
              "          element.innerHTML = '';\n",
              "          dataTable['output_type'] = 'display_data';\n",
              "          await google.colab.output.renderOutput(dataTable, element);\n",
              "          const docLink = document.createElement('div');\n",
              "          docLink.innerHTML = docLinkHtml;\n",
              "          element.appendChild(docLink);\n",
              "        }\n",
              "      </script>\n",
              "    </div>\n",
              "  </div>\n",
              "  "
            ]
          },
          "metadata": {},
          "execution_count": 134
        }
      ]
    }
  ]
}