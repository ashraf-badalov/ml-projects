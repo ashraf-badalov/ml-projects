{
  "nbformat": 4,
  "nbformat_minor": 0,
  "metadata": {
    "colab": {
      "provenance": [],
      "authorship_tag": "ABX9TyPUBpkTq+botZ4R9sZlpVR0",
      "include_colab_link": true
    },
    "kernelspec": {
      "name": "python3",
      "display_name": "Python 3"
    },
    "language_info": {
      "name": "python"
    }
  },
  "cells": [
    {
      "cell_type": "markdown",
      "metadata": {
        "id": "view-in-github",
        "colab_type": "text"
      },
      "source": [
        "<a href=\"https://colab.research.google.com/github/ashraf-badalov/ml-projects/blob/master/web_scraping.ipynb\" target=\"_parent\"><img src=\"https://colab.research.google.com/assets/colab-badge.svg\" alt=\"Open In Colab\"/></a>"
      ]
    },
    {
      "cell_type": "code",
      "execution_count": 67,
      "metadata": {
        "id": "paGM_c3dAObP"
      },
      "outputs": [],
      "source": [
        "from bs4 import BeautifulSoup\n",
        "import requests\n",
        "from csv import writer"
      ]
    },
    {
      "cell_type": "code",
      "source": [
        "url = \"http://books.toscrape.com/\"\n",
        "html_text = requests.get(url)"
      ],
      "metadata": {
        "id": "5NQyvzRz97GN"
      },
      "execution_count": 3,
      "outputs": []
    },
    {
      "cell_type": "code",
      "source": [
        "soup = BeautifulSoup(html_text.content,'html.parser')"
      ],
      "metadata": {
        "id": "rKEQO00U-YRo"
      },
      "execution_count": 7,
      "outputs": []
    },
    {
      "cell_type": "code",
      "source": [
        "books = soup.find_all(\"li\",class_= \"col-xs-6 col-sm-4 col-md-3 col-lg-3\")"
      ],
      "metadata": {
        "id": "ZBFxgncJ_Ymv"
      },
      "execution_count": 11,
      "outputs": []
    },
    {
      "cell_type": "code",
      "source": [
        "with open('books.csv','w',encoding='utf8',newline='') as f:\n",
        "  thewriter = writer(f)\n",
        "  header = ['Title','Price','Stock']\n",
        "  thewriter.writerow(header)\n",
        "\n",
        "  for book in books:\n",
        "    price = book.find('div',class_='product_price').p.text\n",
        "    stock = book.find('p',class_='instock availability').text.replace(\"\\n\",\"\").replace(\" \",\"\")\n",
        "    book_name = book.find('h3').text\n",
        "\n",
        "    #print(f'''\n",
        "    #Book Name : {book_name}\n",
        "    #Price : {price}\n",
        "    #Stock : {stock}\n",
        "    #''')\n",
        "    info = [book_name,price,stock]\n",
        "    thewriter.writerow(info)\n"
      ],
      "metadata": {
        "id": "zrEuP_AmAY2A"
      },
      "execution_count": 68,
      "outputs": []
    }
  ]
}