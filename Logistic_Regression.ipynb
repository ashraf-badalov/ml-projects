{
  "nbformat": 4,
  "nbformat_minor": 0,
  "metadata": {
    "colab": {
      "provenance": [],
      "authorship_tag": "ABX9TyN+MX+P67/f2JJdyAkwwK/X",
      "include_colab_link": true
    },
    "kernelspec": {
      "name": "python3",
      "display_name": "Python 3"
    },
    "language_info": {
      "name": "python"
    }
  },
  "cells": [
    {
      "cell_type": "markdown",
      "metadata": {
        "id": "view-in-github",
        "colab_type": "text"
      },
      "source": [
        "<a href=\"https://colab.research.google.com/github/ashraf-badalov/ml-projects/blob/master/Logistic_Regression.ipynb\" target=\"_parent\"><img src=\"https://colab.research.google.com/assets/colab-badge.svg\" alt=\"Open In Colab\"/></a>"
      ]
    },
    {
      "cell_type": "code",
      "execution_count": 3,
      "metadata": {
        "id": "Qyh2pIRvmeHU"
      },
      "outputs": [],
      "source": [
        "import numpy as np\n",
        "import matplotlib.pyplot as plt\n",
        "from sklearn.model_selection import train_test_split\n",
        "from sklearn import datasets"
      ]
    },
    {
      "cell_type": "code",
      "source": [
        "def sigmoid(x):\n",
        "    return 0.5 * (1 + np.tanh(0.5 * x))\n",
        "\n",
        "\n",
        "class LogisticRegression:\n",
        "\n",
        "  def __init__(self, lr=0.001, n_iters=1000):\n",
        "    self.lr = lr\n",
        "    self.n_iters = n_iters\n",
        "    self.weights = None\n",
        "    self.bias =None\n",
        "\n",
        "  def fit(self, X, y):\n",
        "    n_samples, n_features = X.shape\n",
        "    self.weights = np.zeros(n_features)\n",
        "    self.bias = 0\n",
        "\n",
        "    for _ in range(self.n_iters):\n",
        "      l_pred = np.dot(X, self.weights) + self.bias\n",
        "      predictions = sigmoid(l_pred)\n",
        "\n",
        "      dw = (1/n_samples) * np.dot(X.T, predictions - y)\n",
        "      db = (1/n_samples) * np.sum(predictions - y)\n",
        "      self.weights -= self.lr * dw\n",
        "      self.bias -= self.lr * db\n",
        "\n",
        "  def predict(self, X):\n",
        "    l_pred = np.dot(X, self.weights) + self.bias\n",
        "    y_pred = sigmoid(l_pred)\n",
        "    cls_pred = [0 if y<=0.5 else 1 for y in y_pred]\n",
        "    return cls_pred"
      ],
      "metadata": {
        "id": "w9vM7hmlnOeZ"
      },
      "execution_count": 26,
      "outputs": []
    },
    {
      "cell_type": "code",
      "source": [
        "dataset = datasets.load_breast_cancer()\n",
        "X, y = dataset.data, dataset.target\n",
        "\n",
        "X_train, X_test, y_train, y_test = train_test_split(X, y, test_size = 0.2, random_state = 78)\n",
        "\n",
        "clf = LogisticRegression(lr = 0.1)\n",
        "clf.fit(X_train, y_train)\n",
        "y_pred = clf.predict(X_test)\n",
        "\n",
        "def acccuracy(y_pred, y_test):\n",
        "  return np.sum(y_pred==y_test)/len(y_test)\n",
        "\n",
        "acc = acccuracy(y_pred, y_test)\n",
        "print(f'Accuracy: {acc*100}')"
      ],
      "metadata": {
        "colab": {
          "base_uri": "https://localhost:8080/"
        },
        "id": "vhiKJb1hp47q",
        "outputId": "492b57b3-ecf5-4fd2-d611-d9e8b0b99c30"
      },
      "execution_count": 27,
      "outputs": [
        {
          "output_type": "stream",
          "name": "stdout",
          "text": [
            "Accuracy: 86.8421052631579\n"
          ]
        }
      ]
    }
  ]
}